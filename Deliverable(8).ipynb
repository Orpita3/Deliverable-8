{
  "nbformat": 4,
  "nbformat_minor": 0,
  "metadata": {
    "colab": {
      "provenance": [],
      "include_colab_link": true
    },
    "kernelspec": {
      "name": "python3",
      "display_name": "Python 3"
    },
    "language_info": {
      "name": "python"
    }
  },
  "cells": [
    {
      "cell_type": "markdown",
      "metadata": {
        "id": "view-in-github",
        "colab_type": "text"
      },
      "source": [
        "<a href=\"https://colab.research.google.com/github/Orpita3/Deliverable-8/blob/main/Deliverable(8).ipynb\" target=\"_parent\"><img src=\"https://colab.research.google.com/assets/colab-badge.svg\" alt=\"Open In Colab\"/></a>"
      ]
    },
    {
      "cell_type": "code",
      "execution_count": 2,
      "metadata": {
        "id": "OKS2RN8u0BR4",
        "colab": {
          "base_uri": "https://localhost:8080/"
        },
        "outputId": "d4fb464e-c49a-452b-ff3e-4599bb8d5320"
      },
      "outputs": [
        {
          "output_type": "stream",
          "name": "stdout",
          "text": [
            "Please enter an integer number between 5 and 15: 16\n",
            "Invalid entry. Please enter an integer between 5 and 15.\n",
            "Please enter an integer number between 5 and 15: 7\n",
            "The elements of the array are: 44 42 47 43 27 35 30\n",
            "The sum is: 268\n"
          ]
        }
      ],
      "source": [
        "import random\n",
        "\n",
        "# Method 1\n",
        "def populate_list(length):\n",
        "    return [random.randint(10, 50) for _ in range(length)]\n",
        "\n",
        "# Method 2\n",
        "def sum_list(lst):\n",
        "    return sum(lst)\n",
        "\n",
        "while True:\n",
        "    user_entry = input(\"Please enter an integer number between 5 and 15: \")\n",
        "    try:\n",
        "        user_entry = int(user_entry)\n",
        "    except ValueError:\n",
        "        print(\"Invalid entry. Please enter an integer.\")\n",
        "        continue\n",
        "    \n",
        "    if 5 <= user_entry <= 15:\n",
        "        break\n",
        "    else:\n",
        "        print(\"Invalid entry. Please enter an integer between 5 and 15.\")\n",
        "\n",
        "random_list = populate_list(user_entry)\n",
        "print(\"The elements of the array are:\", \" \".join(str(x) for x in random_list))\n",
        "\n",
        "total_sum = sum_list(random_list)\n",
        "print(\"The sum is:\", total_sum)\n"
      ]
    }
  ]
}